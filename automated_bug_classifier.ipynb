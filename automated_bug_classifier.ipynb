{
 "cells": [
  {
   "cell_type": "code",
   "execution_count": 1,
   "metadata": {
    "collapsed": false
   },
   "outputs": [],
   "source": [
    "import untangle\n",
    "import os\n",
    "import glob\n",
    "import string\n",
    "import numpy as np\n",
    "import pandas as pd\n",
    "from xml.etree import ElementTree as ET\n",
    "from nltk import word_tokenize\n",
    "from nltk.stem.porter import PorterStemmer\n",
    "from sklearn.feature_extraction.text import CountVectorizer, TfidfTransformer, TfidfVectorizer\n",
    "from sklearn.pipeline import Pipeline\n",
    "from sklearn.linear_model import LogisticRegression, SGDClassifier\n",
    "from sklearn.svm import LinearSVC, SVC\n",
    "from sklearn.model_selection import cross_val_score\n",
    "from sklearn.naive_bayes import BernoulliNB, MultinomialNB\n",
    "from sklearn.ensemble import RandomForestClassifier"
   ]
  },
  {
   "cell_type": "code",
   "execution_count": 2,
   "metadata": {
    "collapsed": true
   },
   "outputs": [],
   "source": [
    "BUG_CLASSIFICATION_FILE=\"./classification.csv\"\n",
    "BUGS_DIR=\"./bugs\""
   ]
  },
  {
   "cell_type": "code",
   "execution_count": 3,
   "metadata": {
    "collapsed": false
   },
   "outputs": [],
   "source": [
    "def get_files_ext(directory, extension=\"csv\"):\n",
    "    result = [i for i in glob.glob(os.path.join(directory, '*.{}').format(extension))]\n",
    "    return result"
   ]
  },
  {
   "cell_type": "code",
   "execution_count": 4,
   "metadata": {
    "collapsed": true
   },
   "outputs": [],
   "source": [
    "def get_classified_bugs(bug_id_file):\n",
    "    bug_ids = list()\n",
    "    with open(bug_id_file, 'r') as f:\n",
    "        bug_ids = f.read().splitlines()\n",
    "\n",
    "    return bug_ids"
   ]
  },
  {
   "cell_type": "code",
   "execution_count": 5,
   "metadata": {
    "collapsed": true
   },
   "outputs": [],
   "source": [
    "def untangle_parse(bug_file):\n",
    "    bug_obj = untangle.parse(bug_file)\n",
    "\n",
    "    # Extract the short descriptions and the comments.\n",
    "    bug_details = bug_obj.bugzilla.bug\n",
    "    bug_data = dict()\n",
    "    bug_id = str(bug_details.bug_id.cdata)\n",
    "    bug_data['bug_id'] = bug_id\n",
    "    bug_data['bug_status'] = str(bug_details.bug_status.cdata) + '-' + str(bug_details.resolution.cdata)\n",
    "    bug_data['version'] = str(bug_details.version.cdata)\n",
    "    bug_data['keywords'] = str(bug_details.keywords.cdata)\n",
    "    bug_data['component'] = str(bug_details.component.cdata)\n",
    "\n",
    "    short_desc = bug_details.short_desc.cdata.encode('ascii', 'ignore')\n",
    "    long_descs = [ld.thetext.cdata.encode('ascii', 'ignore') for ld in bug_details.long_desc]\n",
    "\n",
    "\n",
    "    # Bug text consists of the short description and the comments.\n",
    "    bug_data['text'] = short_desc + os.linesep.join(long_descs)\n",
    "\n",
    "    # Attachments created.\n",
    "    if hasattr(bug_details, 'attachment'):\n",
    "        bug_data['attachments'] = ', '.join([str(a.filename.cdata) for a in bug_details.attachment])    \n",
    "    \n",
    "    del bug_obj\n",
    "    return bug_id, bug_data"
   ]
  },
  {
   "cell_type": "code",
   "execution_count": 6,
   "metadata": {
    "collapsed": false
   },
   "outputs": [],
   "source": [
    "def etree_parse(bug_file):\n",
    "    xml_parse = ET.iterparse(bug_file, events=('start', 'end'))\n",
    "    \n",
    "    bug_data = dict()\n",
    "    bug_id = ''\n",
    "    bug_status = ''\n",
    "    bug_resolution = ''\n",
    "    short_desc = ''\n",
    "    comments = list()\n",
    "    attachments = list()\n",
    "    for event, element in xml_parse:\n",
    "        if event == 'end':\n",
    "            tag = element.tag\n",
    "            value = element.text\n",
    "            if tag == 'bug_id':\n",
    "                bug_id = value\n",
    "                bug_data['bug_id'] = bug_id\n",
    "                element.clear()\n",
    "            elif tag == 'bug_status':\n",
    "                bug_status = value\n",
    "                element.clear()\n",
    "            elif tag == 'resolution':\n",
    "                if value:\n",
    "                    bug_resolution = value\n",
    "                element.clear()\n",
    "            elif tag == 'version':\n",
    "                bug_data['version'] = value\n",
    "                element.clear()\n",
    "            elif tag == 'keywords':\n",
    "                bug_data['keywords'] = value\n",
    "                element.clear()\n",
    "            elif tag == 'component':\n",
    "                bug_data['component'] = value\n",
    "                element.clear()\n",
    "            elif tag == 'short_desc':\n",
    "                if value:\n",
    "                    short_desc = value.encode('ascii', 'ignore')\n",
    "                element.clear()\n",
    "            elif tag == 'thetext':\n",
    "                if value:\n",
    "                    comments.append(value.encode('ascii', 'ignore'))\n",
    "                element.clear()\n",
    "            elif tag == 'filename':\n",
    "                attachments.append(value)\n",
    "                element.clear()\n",
    "        \n",
    "    bug_data['bug_status'] = bug_status + '-' + bug_resolution\n",
    "    bug_data['text'] = short_desc + os.linesep + os.linesep.join(comments)\n",
    "    bug_data['attachments'] = ', '.join(attachments)\n",
    "            \n",
    "    del xml_parse\n",
    "    return bug_id, bug_data"
   ]
  },
  {
   "cell_type": "code",
   "execution_count": 10,
   "metadata": {
    "collapsed": false
   },
   "outputs": [],
   "source": [
    "def get_bug_df(bug_dir, parser):\n",
    "    bug_files = get_files_ext(bug_dir, \"xml\")\n",
    "    \n",
    "    # DataFrame creation.\n",
    "    rows = list()\n",
    "    index = list()\n",
    "\n",
    "    for bug_file in bug_files:\n",
    "        bug_id, bug_data = parser(bug_file)\n",
    "        \n",
    "        # Add this as a row\n",
    "        rows.append(bug_data)\n",
    "        index.append(bug_id)\n",
    "\n",
    "    bug_df = pd.DataFrame(rows, index=index)\n",
    "    return bug_df"
   ]
  },
  {
   "cell_type": "code",
   "execution_count": 11,
   "metadata": {
    "collapsed": true
   },
   "outputs": [],
   "source": [
    "def tokenize(text):\n",
    "    text = text.lower()\n",
    "    tokens = word_tokenize(text)\n",
    "    tokens = [i for i in tokens if i not in string.punctuation]\n",
    "    stemmer = PorterStemmer()\n",
    "    stems = [stemmer.stem(t) for t in tokens]\n",
    "    return stems"
   ]
  },
  {
   "cell_type": "code",
   "execution_count": 12,
   "metadata": {
    "collapsed": false
   },
   "outputs": [],
   "source": [
    "def do_classification_cv(bug_df, clf, cv_cnt):\n",
    "    # Get the X and y values\n",
    "    X = bug_df['text'].values\n",
    "    y = bug_df['class'].values\n",
    "    \n",
    "    # Run the classifier for precision and recall.\n",
    "    precision = cross_val_score(clf, X, y, cv=cv_cnt, scoring='precision')\n",
    "    recall = cross_val_score(clf, X, y, cv=cv_cnt, scoring='recall')\n",
    "    \n",
    "    return precision, recall"
   ]
  },
  {
   "cell_type": "code",
   "execution_count": 197,
   "metadata": {
    "collapsed": false
   },
   "outputs": [],
   "source": [
    "# Get the classified bug info.\n",
    "bug_classified_df = pd.read_csv(BUG_CLASSIFICATION_FILE, dtype={'bug_id': object})"
   ]
  },
  {
   "cell_type": "code",
   "execution_count": 198,
   "metadata": {
    "collapsed": true
   },
   "outputs": [],
   "source": [
    "# Get the entire bug data.\n",
    "bug_df = get_bug_df(BUGS_DIR, etree_parse)"
   ]
  },
  {
   "cell_type": "code",
   "execution_count": 199,
   "metadata": {
    "collapsed": false
   },
   "outputs": [],
   "source": [
    "# Split the data into model and prediction sets.\n",
    "classified_ids = bug_classified_df['bug_id'].values.tolist()\n",
    "mask = bug_df.index.isin(classified_ids)\n",
    "model_df = bug_df.loc[mask]\n",
    "pred_df = bug_df.loc[~mask]"
   ]
  },
  {
   "cell_type": "code",
   "execution_count": 200,
   "metadata": {
    "collapsed": false
   },
   "outputs": [],
   "source": [
    "# Perform a merge on the model data and classfied data.\n",
    "model_df = pd.merge(model_df, bug_classified_df, on='bug_id')\n",
    "\n",
    "# Get the text data from both the model and the prediction set.\n",
    "model_texts = model_df['text'].values\n",
    "pred_texts = pred_df['text'].values"
   ]
  },
  {
   "cell_type": "code",
   "execution_count": 201,
   "metadata": {
    "collapsed": false
   },
   "outputs": [],
   "source": [
    "# Set up the vectorizer\n",
    "vectorizer = CountVectorizer(analyzer='word', tokenizer=tokenize)\n",
    "\n",
    "# Get the text data and apply the vectorizer.\n",
    "texts = np.concatenate([model_texts, pred_texts])\n",
    "vectorizer = vectorizer.fit(texts)"
   ]
  },
  {
   "cell_type": "code",
   "execution_count": 202,
   "metadata": {
    "collapsed": true
   },
   "outputs": [],
   "source": [
    "# Set up the classifier\n",
    "classifier = LogisticRegression()"
   ]
  },
  {
   "cell_type": "code",
   "execution_count": 203,
   "metadata": {
    "collapsed": false
   },
   "outputs": [],
   "source": [
    "# Classification pipeline\n",
    "clf = Pipeline([\n",
    "('vectorizer', vectorizer),\n",
    "('classifier', classifier) ])"
   ]
  },
  {
   "cell_type": "code",
   "execution_count": 204,
   "metadata": {
    "collapsed": false
   },
   "outputs": [
    {
     "name": "stdout",
     "output_type": "stream",
     "text": [
      "Mean Precision 0.683333333333, Mean Recall 0.315, 10 fold\n"
     ]
    }
   ],
   "source": [
    "folds = 10\n",
    "p, r = do_classification_cv(model_df, clf, folds)\n",
    "print 'Mean Precision {}, Mean Recall {}, {} fold'.format(np.mean(p), np.mean(r), folds)"
   ]
  },
  {
   "cell_type": "code",
   "execution_count": 205,
   "metadata": {
    "collapsed": false
   },
   "outputs": [],
   "source": [
    "# Start predicting the non-classified bugs. First fit the classified ones.\n",
    "model_classes = model_df['class'].values\n",
    "clf = clf.fit(model_texts, model_classes)\n",
    "pred_classes = clf.predict(pred_texts)"
   ]
  },
  {
   "cell_type": "code",
   "execution_count": 210,
   "metadata": {
    "collapsed": false
   },
   "outputs": [
    {
     "name": "stdout",
     "output_type": "stream",
     "text": [
      "(6312, 7)\n"
     ]
    }
   ],
   "source": [
    "print pred_df.shape"
   ]
  },
  {
   "cell_type": "code",
   "execution_count": 212,
   "metadata": {
    "collapsed": false
   },
   "outputs": [],
   "source": [
    "# The following operation is to prevent a nasty warning from poping up, which is\n",
    "# a false positive, for more information see the following link:\n",
    "# https://stackoverflow.com/questions/20625582/how-to-deal-with-settingwithcopywarning-in-pandas\n",
    "pd.options.mode.chained_assignment = None  # default='warn'\n",
    "\n",
    "pred_df['class'] = pd.Series(pred_classes, index=pred_df.index)"
   ]
  },
  {
   "cell_type": "code",
   "execution_count": 223,
   "metadata": {
    "collapsed": false
   },
   "outputs": [
    {
     "name": "stdout",
     "output_type": "stream",
     "text": [
      "Classified 384 bugs as vulnerabilites\n"
     ]
    }
   ],
   "source": [
    "print 'Classified {} bugs as vulnerabilites'.format(np.sum(pred_classes))# Column order to save to csv file.\n",
    "\n",
    "# Column order to appear in the csv output.\n",
    "column_order = ['bug_id', 'bug_status', 'version', 'keywords', 'component', 'attachments']\n",
    "\n",
    "# Save the classified bugs data to a csv.\n",
    "pred_df_mask = pred_df['class']==1\n",
    "pred_bugs_df = pred_df.loc[pred_df_mask]\n",
    "pred_bugs_df.reset_index(drop=True)\n",
    "\n",
    "pred_bugs_df[column_order].to_csv('classification_auto.csv', encoding='utf-8')"
   ]
  }
 ],
 "metadata": {
  "kernelspec": {
   "display_name": "Python 2",
   "language": "python",
   "name": "python2"
  },
  "language_info": {
   "codemirror_mode": {
    "name": "ipython",
    "version": 2
   },
   "file_extension": ".py",
   "mimetype": "text/x-python",
   "name": "python",
   "nbconvert_exporter": "python",
   "pygments_lexer": "ipython2",
   "version": "2.7.13"
  }
 },
 "nbformat": 4,
 "nbformat_minor": 2
}
